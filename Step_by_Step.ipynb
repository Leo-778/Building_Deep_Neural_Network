{
 "cells": [
  {
   "cell_type": "code",
   "execution_count": 1,
   "metadata": {},
   "outputs": [],
   "source": [
    "import numpy as np\r\n",
    "import h5py\r\n",
    "import matplotlib.pyplot as plt\r\n",
    "from testCases import *\r\n",
    "from dnn_utils import sigmoid, sigmoid_backward, relu, relu_backward\r\n",
    "from public_tests import *\r\n",
    "\r\n",
    "plt.rcParams['figure.figsize'] = (5.0, 4.0) # set default size of plots\r\n",
    "plt.rcParams['image.interpolation'] = 'nearest'\r\n",
    "plt.rcParams['image.cmap'] = 'gray'\r\n",
    "\r\n",
    "np.random.seed(1)"
   ]
  },
  {
   "cell_type": "code",
   "execution_count": 7,
   "metadata": {},
   "outputs": [],
   "source": [
    "#初始化2层参数\r\n",
    "def initialize_parameters(n_x, n_h, n_y):\r\n",
    "    np.random.seed(1)\r\n",
    "    W1 = np.random.randn(n_h,n_x)*0.01\r\n",
    "    b1 = np.zeros((n_h,1))\r\n",
    "    W2 = np.random.randn(n_y,n_h)*0.01\r\n",
    "    b2 = np.zeros((n_y,1))\r\n",
    "    \r\n",
    "    parameters = {\"W1\": W1,\r\n",
    "                  \"b1\": b1,\r\n",
    "                  \"W2\": W2,\r\n",
    "                  \"b2\": b2}\r\n",
    "    \r\n",
    "    return parameters   "
   ]
  },
  {
   "cell_type": "code",
   "execution_count": 8,
   "metadata": {},
   "outputs": [
    {
     "name": "stdout",
     "output_type": "stream",
     "text": [
      "W1 = [[ 0.01624345 -0.00611756 -0.00528172]\n",
      " [-0.01072969  0.00865408 -0.02301539]]\n",
      "b1 = [[0.]\n",
      " [0.]]\n",
      "W2 = [[ 0.01744812 -0.00761207]]\n",
      "b2 = [[0.]]\n",
      "\u001b[92m All tests passed.\n"
     ]
    }
   ],
   "source": [
    "#测试\r\n",
    "parameters = initialize_parameters(3,2,1)\r\n",
    "\r\n",
    "print(\"W1 = \" + str(parameters[\"W1\"]))\r\n",
    "print(\"b1 = \" + str(parameters[\"b1\"]))\r\n",
    "print(\"W2 = \" + str(parameters[\"W2\"]))\r\n",
    "print(\"b2 = \" + str(parameters[\"b2\"]))\r\n",
    "\r\n",
    "initialize_parameters_test(initialize_parameters)"
   ]
  },
  {
   "cell_type": "code",
   "execution_count": 10,
   "metadata": {},
   "outputs": [],
   "source": [
    "#初始化 L 层参数\r\n",
    "def initialize_parameters_deep(layer_dims):\r\n",
    "    np.random.seed(3)\r\n",
    "    parameters = {}\r\n",
    "    L = len(layer_dims) # number of layers in the network\r\n",
    "\r\n",
    "    for l in range(1, L):\r\n",
    "        parameters[\"W\"+str(l)] = np.random.randn(layer_dims[l],layer_dims[l-1]) * 0.01\r\n",
    "        parameters[\"b\"+str(l)] = np.zeros((layer_dims[l],1))\r\n",
    "        \r\n",
    "        \r\n",
    "        assert(parameters['W' + str(l)].shape == (layer_dims[l], layer_dims[l - 1]))\r\n",
    "        assert(parameters['b' + str(l)].shape == (layer_dims[l], 1))\r\n",
    "\r\n",
    "        \r\n",
    "    return parameters"
   ]
  },
  {
   "cell_type": "code",
   "execution_count": 11,
   "metadata": {},
   "outputs": [
    {
     "name": "stdout",
     "output_type": "stream",
     "text": [
      "W1 = [[ 0.01788628  0.0043651   0.00096497 -0.01863493 -0.00277388]\n",
      " [-0.00354759 -0.00082741 -0.00627001 -0.00043818 -0.00477218]\n",
      " [-0.01313865  0.00884622  0.00881318  0.01709573  0.00050034]\n",
      " [-0.00404677 -0.0054536  -0.01546477  0.00982367 -0.01101068]]\n",
      "b1 = [[0.]\n",
      " [0.]\n",
      " [0.]\n",
      " [0.]]\n",
      "W2 = [[-0.01185047 -0.0020565   0.01486148  0.00236716]\n",
      " [-0.01023785 -0.00712993  0.00625245 -0.00160513]\n",
      " [-0.00768836 -0.00230031  0.00745056  0.01976111]]\n",
      "b2 = [[0.]\n",
      " [0.]\n",
      " [0.]]\n",
      "\u001b[92m All tests passed.\n"
     ]
    }
   ],
   "source": [
    "#测试L层参数\r\n",
    "parameters = initialize_parameters_deep([5,4,3])\r\n",
    "\r\n",
    "print(\"W1 = \" + str(parameters[\"W1\"]))\r\n",
    "print(\"b1 = \" + str(parameters[\"b1\"]))\r\n",
    "print(\"W2 = \" + str(parameters[\"W2\"]))\r\n",
    "print(\"b2 = \" + str(parameters[\"b2\"]))\r\n",
    "\r\n",
    "initialize_parameters_deep_test(initialize_parameters_deep)"
   ]
  },
  {
   "cell_type": "code",
   "execution_count": 12,
   "metadata": {},
   "outputs": [],
   "source": [
    "#1层正向传播（线性）\r\n",
    "def linear_forward(A, W, b):\r\n",
    "    Z = np.dot(W,A)+b\r\n",
    "    \r\n",
    "    cache = (A, W, b)\r\n",
    "    \r\n",
    "    return Z, cache"
   ]
  },
  {
   "cell_type": "code",
   "execution_count": 13,
   "metadata": {},
   "outputs": [
    {
     "name": "stdout",
     "output_type": "stream",
     "text": [
      "Z = [[ 3.26295337 -1.23429987]]\n",
      "\u001b[92m All tests passed.\n"
     ]
    }
   ],
   "source": [
    "#测试\r\n",
    "t_A, t_W, t_b = linear_forward_test_case()\r\n",
    "t_Z, t_linear_cache = linear_forward(t_A, t_W, t_b)\r\n",
    "print(\"Z = \" + str(t_Z))\r\n",
    "\r\n",
    "linear_forward_test(linear_forward)"
   ]
  },
  {
   "cell_type": "code",
   "execution_count": 14,
   "metadata": {},
   "outputs": [],
   "source": [
    "#1层正向传播（激活函数）\r\n",
    "def linear_activation_forward(A_prev, W, b, activation):\r\n",
    "    if activation == \"sigmoid\":\r\n",
    "        Z,linear_cache = linear_forward(A_prev,W,b)\r\n",
    "        A,activation_cache = sigmoid(Z)\r\n",
    "        \r\n",
    "    \r\n",
    "    elif activation == \"relu\":\r\n",
    "        \r\n",
    "        Z,linear_cache = linear_forward(A_prev,W,b)\r\n",
    "        A,activation_cache = relu(Z)\r\n",
    "        \r\n",
    "    cache = (linear_cache, activation_cache)\r\n",
    "\r\n",
    "    return A, cache"
   ]
  },
  {
   "cell_type": "code",
   "execution_count": 15,
   "metadata": {},
   "outputs": [
    {
     "name": "stdout",
     "output_type": "stream",
     "text": [
      "With sigmoid: A = [[0.96890023 0.11013289]]\n",
      "With ReLU: A = [[3.43896131 0.        ]]\n",
      "\u001b[92m All tests passed.\n"
     ]
    }
   ],
   "source": [
    "#测试\r\n",
    "t_A_prev, t_W, t_b = linear_activation_forward_test_case()\r\n",
    "\r\n",
    "t_A, t_linear_activation_cache = linear_activation_forward(t_A_prev, t_W, t_b, activation = \"sigmoid\")\r\n",
    "print(\"With sigmoid: A = \" + str(t_A))\r\n",
    "\r\n",
    "t_A, t_linear_activation_cache = linear_activation_forward(t_A_prev, t_W, t_b, activation = \"relu\")\r\n",
    "print(\"With ReLU: A = \" + str(t_A))\r\n",
    "\r\n",
    "linear_activation_forward_test(linear_activation_forward)"
   ]
  },
  {
   "cell_type": "code",
   "execution_count": 16,
   "metadata": {},
   "outputs": [],
   "source": [
    "#L层正向传播\r\n",
    "def L_model_forward(X, parameters):\r\n",
    "    caches = []\r\n",
    "    A = X\r\n",
    "    L = len(parameters) // 2                  # number of layers in the neural network\r\n",
    "    \r\n",
    "    for l in range(1, L):\r\n",
    "        A_prev = A \r\n",
    "        A,cache =  linear_activation_forward(A_prev,parameters['W' + str(l)],parameters['b' + str(l)],activation = \"relu\")\r\n",
    "        caches.append(cache)\r\n",
    "    \r\n",
    "    AL, cache = linear_activation_forward(A,parameters[\"W\" + str(L)],parameters[\"b\" + str(L)],activation = \"sigmoid\")\r\n",
    "    caches.append(cache)\r\n",
    "          \r\n",
    "    return AL, caches"
   ]
  },
  {
   "cell_type": "code",
   "execution_count": 17,
   "metadata": {},
   "outputs": [
    {
     "name": "stdout",
     "output_type": "stream",
     "text": [
      "AL = [[0.03921668 0.70498921 0.19734387 0.04728177]]\n",
      "\u001b[92m All tests passed.\n"
     ]
    }
   ],
   "source": [
    "#测试\r\n",
    "t_X, t_parameters = L_model_forward_test_case_2hidden()\r\n",
    "t_AL, t_caches = L_model_forward(t_X, t_parameters)\r\n",
    "\r\n",
    "print(\"AL = \" + str(t_AL))\r\n",
    "\r\n",
    "L_model_forward_test(L_model_forward)"
   ]
  },
  {
   "cell_type": "code",
   "execution_count": 18,
   "metadata": {},
   "outputs": [],
   "source": [
    "#计算代价\r\n",
    "def compute_cost(AL, Y):\r\n",
    "    m = Y.shape[1]\r\n",
    "\r\n",
    "    cost = -1/m*np.sum(Y*np.log(AL)+(1-Y)*np.log(1-AL))\r\n",
    "    \r\n",
    "    cost = np.squeeze(cost)      # To make sure your cost's shape is what we expect (e.g. this turns [[17]] into 17).\r\n",
    "    \r\n",
    "    return cost"
   ]
  },
  {
   "cell_type": "code",
   "execution_count": 19,
   "metadata": {},
   "outputs": [
    {
     "name": "stdout",
     "output_type": "stream",
     "text": [
      "Cost: 0.2797765635793422\n",
      "\u001b[92m All tests passed.\n"
     ]
    }
   ],
   "source": [
    "#测试代价\r\n",
    "t_Y, t_AL = compute_cost_test_case()\r\n",
    "t_cost = compute_cost(t_AL, t_Y)\r\n",
    "\r\n",
    "print(\"Cost: \" + str(t_cost))\r\n",
    "\r\n",
    "compute_cost_test(compute_cost)"
   ]
  },
  {
   "cell_type": "code",
   "execution_count": 20,
   "metadata": {},
   "outputs": [],
   "source": [
    "#1层反向传播（线性）\r\n",
    "def linear_backward(dZ, cache):\r\n",
    "    A_prev, W, b = cache\r\n",
    "    m = A_prev.shape[1]\r\n",
    "\r\n",
    "    dW = 1 / m * np.dot(dZ ,A_prev.T)\r\n",
    "    db = 1 / m * np.sum(dZ,axis = 1 ,keepdims=True)\r\n",
    "    dA_prev = np.dot(W.T,dZ) \r\n",
    "    \r\n",
    "    return dA_prev, dW, db"
   ]
  },
  {
   "cell_type": "code",
   "execution_count": 21,
   "metadata": {},
   "outputs": [
    {
     "name": "stdout",
     "output_type": "stream",
     "text": [
      "dA_prev: [[-1.15171336  0.06718465 -0.3204696   2.09812712]\n",
      " [ 0.60345879 -3.72508701  5.81700741 -3.84326836]\n",
      " [-0.4319552  -1.30987417  1.72354705  0.05070578]\n",
      " [-0.38981415  0.60811244 -1.25938424  1.47191593]\n",
      " [-2.52214926  2.67882552 -0.67947465  1.48119548]]\n",
      "dW: [[ 0.07313866 -0.0976715  -0.87585828  0.73763362  0.00785716]\n",
      " [ 0.85508818  0.37530413 -0.59912655  0.71278189 -0.58931808]\n",
      " [ 0.97913304 -0.24376494 -0.08839671  0.55151192 -0.10290907]]\n",
      "db: [[-0.14713786]\n",
      " [-0.11313155]\n",
      " [-0.13209101]]\n",
      "\u001b[92m All tests passed.\n"
     ]
    }
   ],
   "source": [
    "#测试\r\n",
    "t_dZ, t_linear_cache = linear_backward_test_case()\r\n",
    "t_dA_prev, t_dW, t_db = linear_backward(t_dZ, t_linear_cache)\r\n",
    "\r\n",
    "print(\"dA_prev: \" + str(t_dA_prev))\r\n",
    "print(\"dW: \" + str(t_dW))\r\n",
    "print(\"db: \" + str(t_db))\r\n",
    "\r\n",
    "linear_backward_test(linear_backward)"
   ]
  },
  {
   "cell_type": "code",
   "execution_count": 22,
   "metadata": {},
   "outputs": [],
   "source": [
    "#1层反向传播（激活函数）\r\n",
    "def linear_activation_backward(dA, cache, activation):\r\n",
    "    linear_cache, activation_cache = cache\r\n",
    "    \r\n",
    "    if activation == \"relu\":\r\n",
    "        \r\n",
    "        dZ = relu_backward(dA, activation_cache)\r\n",
    "        dA_prev,dW,db = linear_backward(dZ, linear_cache)\r\n",
    "        \r\n",
    "        \r\n",
    "    elif activation == \"sigmoid\":\r\n",
    "        \r\n",
    "        dZ = sigmoid_backward(dA, activation_cache)\r\n",
    "        dA_prev, dW, db = linear_backward(dZ, linear_cache)\r\n",
    "        \r\n",
    "    \r\n",
    "    return dA_prev, dW, db"
   ]
  },
  {
   "cell_type": "code",
   "execution_count": 23,
   "metadata": {},
   "outputs": [
    {
     "name": "stdout",
     "output_type": "stream",
     "text": [
      "With sigmoid: dA_prev = [[ 0.11017994  0.01105339]\n",
      " [ 0.09466817  0.00949723]\n",
      " [-0.05743092 -0.00576154]]\n",
      "With sigmoid: dW = [[ 0.10266786  0.09778551 -0.01968084]]\n",
      "With sigmoid: db = [[-0.05729622]]\n",
      "With relu: dA_prev = [[ 0.44090989  0.        ]\n",
      " [ 0.37883606  0.        ]\n",
      " [-0.2298228   0.        ]]\n",
      "With relu: dW = [[ 0.44513824  0.37371418 -0.10478989]]\n",
      "With relu: db = [[-0.20837892]]\n",
      "\u001b[92m All tests passed.\n"
     ]
    }
   ],
   "source": [
    "#测试\r\n",
    "t_dAL, t_linear_activation_cache = linear_activation_backward_test_case()\r\n",
    "\r\n",
    "t_dA_prev, t_dW, t_db = linear_activation_backward(t_dAL, t_linear_activation_cache, activation = \"sigmoid\")\r\n",
    "print(\"With sigmoid: dA_prev = \" + str(t_dA_prev))\r\n",
    "print(\"With sigmoid: dW = \" + str(t_dW))\r\n",
    "print(\"With sigmoid: db = \" + str(t_db))\r\n",
    "\r\n",
    "t_dA_prev, t_dW, t_db = linear_activation_backward(t_dAL, t_linear_activation_cache, activation = \"relu\")\r\n",
    "print(\"With relu: dA_prev = \" + str(t_dA_prev))\r\n",
    "print(\"With relu: dW = \" + str(t_dW))\r\n",
    "print(\"With relu: db = \" + str(t_db))\r\n",
    "\r\n",
    "linear_activation_backward_test(linear_activation_backward)"
   ]
  },
  {
   "cell_type": "code",
   "execution_count": 24,
   "metadata": {},
   "outputs": [],
   "source": [
    "#L层反向传播\r\n",
    "def L_model_backward(AL, Y, caches):\r\n",
    "\r\n",
    "    grads = {}\r\n",
    "    L = len(caches) # the number of layers\r\n",
    "    m = AL.shape[1]\r\n",
    "    Y = Y.reshape(AL.shape) # after this line, Y is the same shape as AL\r\n",
    "    \r\n",
    "    dAL = - (np.divide(Y, AL) - np.divide(1 - Y, 1 - AL))\r\n",
    "    \r\n",
    "    current_cache = caches[L-1]\r\n",
    "    dA_prev_temp, dW_temp, db_temp = linear_activation_backward(dAL, current_cache, activation = \"sigmoid\")\r\n",
    "    grads[\"dA\" + str(L-1 )] = dA_prev_temp\r\n",
    "    grads[\"dW\" + str(L )] = dW_temp\r\n",
    "    grads[\"db\" + str(L )] = db_temp\r\n",
    "    \r\n",
    "    \r\n",
    "    for l in reversed(range(L-1)):\r\n",
    "        \r\n",
    "        current_cache = caches[l]\r\n",
    "        dA_prev_temp, dW_temp, db_temp = linear_activation_backward(grads[\"dA\" + str(l+1)], current_cache, activation = \"relu\")\r\n",
    "        grads[\"dA\" + str(l)] = dA_prev_temp\r\n",
    "        grads[\"dW\" + str(l + 1)] = dW_temp\r\n",
    "        grads[\"db\" + str(l + 1)] = db_temp\r\n",
    "        \r\n",
    "\r\n",
    "    return grads"
   ]
  },
  {
   "cell_type": "code",
   "execution_count": 25,
   "metadata": {},
   "outputs": [
    {
     "name": "stdout",
     "output_type": "stream",
     "text": [
      "dA0 = [[ 0.          0.52257901]\n",
      " [ 0.         -0.3269206 ]\n",
      " [ 0.         -0.32070404]\n",
      " [ 0.         -0.74079187]]\n",
      "dA1 = [[ 0.12913162 -0.44014127]\n",
      " [-0.14175655  0.48317296]\n",
      " [ 0.01663708 -0.05670698]]\n",
      "dW1 = [[0.41010002 0.07807203 0.13798444 0.10502167]\n",
      " [0.         0.         0.         0.        ]\n",
      " [0.05283652 0.01005865 0.01777766 0.0135308 ]]\n",
      "dW2 = [[-0.39202432 -0.13325855 -0.04601089]]\n",
      "db1 = [[-0.22007063]\n",
      " [ 0.        ]\n",
      " [-0.02835349]]\n",
      "db2 = [[0.15187861]]\n",
      "\u001b[92m All tests passed.\n"
     ]
    }
   ],
   "source": [
    "#测试\r\n",
    "t_AL, t_Y_assess, t_caches = L_model_backward_test_case()\r\n",
    "grads = L_model_backward(t_AL, t_Y_assess, t_caches)\r\n",
    "\r\n",
    "print(\"dA0 = \" + str(grads['dA0']))\r\n",
    "print(\"dA1 = \" + str(grads['dA1']))\r\n",
    "print(\"dW1 = \" + str(grads['dW1']))\r\n",
    "print(\"dW2 = \" + str(grads['dW2']))\r\n",
    "print(\"db1 = \" + str(grads['db1']))\r\n",
    "print(\"db2 = \" + str(grads['db2']))\r\n",
    "\r\n",
    "L_model_backward_test(L_model_backward)"
   ]
  },
  {
   "cell_type": "code",
   "execution_count": 26,
   "metadata": {},
   "outputs": [],
   "source": [
    "#更新参数\r\n",
    "def update_parameters(params, grads, learning_rate):\r\n",
    "    \r\n",
    "    parameters = params.copy()\r\n",
    "    L = len(parameters) // 2 # number of layers in the neural network\r\n",
    "\r\n",
    "    for l in range(L):\r\n",
    "        \r\n",
    "        parameters[\"W\" + str(l+1)] = parameters[\"W\" + str(l+1)]-learning_rate * grads[\"dW\" + str(l + 1)]\r\n",
    "        parameters[\"b\" + str(l+1)] = parameters[\"b\" + str(l+1)]-learning_rate * grads[\"db\" + str(l + 1)]\r\n",
    "        \r\n",
    "    return parameters"
   ]
  },
  {
   "cell_type": "code",
   "execution_count": 27,
   "metadata": {},
   "outputs": [
    {
     "name": "stdout",
     "output_type": "stream",
     "text": [
      "W1 = [[-0.59562069 -0.09991781 -2.14584584  1.82662008]\n",
      " [-1.76569676 -0.80627147  0.51115557 -1.18258802]\n",
      " [-1.0535704  -0.86128581  0.68284052  2.20374577]]\n",
      "b1 = [[-0.04659241]\n",
      " [-1.28888275]\n",
      " [ 0.53405496]]\n",
      "W2 = [[-0.55569196  0.0354055   1.32964895]]\n",
      "b2 = [[-0.84610769]]\n",
      "\u001b[92m All tests passed.\n"
     ]
    }
   ],
   "source": [
    "#测试参数\r\n",
    "t_parameters, grads = update_parameters_test_case()\r\n",
    "t_parameters = update_parameters(t_parameters, grads, 0.1)\r\n",
    "\r\n",
    "print (\"W1 = \"+ str(t_parameters[\"W1\"]))\r\n",
    "print (\"b1 = \"+ str(t_parameters[\"b1\"]))\r\n",
    "print (\"W2 = \"+ str(t_parameters[\"W2\"]))\r\n",
    "print (\"b2 = \"+ str(t_parameters[\"b2\"]))\r\n",
    "\r\n",
    "update_parameters_test(update_parameters)"
   ]
  },
  {
   "cell_type": "code",
   "execution_count": null,
   "metadata": {},
   "outputs": [],
   "source": []
  }
 ],
 "metadata": {
  "interpreter": {
   "hash": "3b1827d4b6462cc460901af0bc0d075c933010817877a813d51f78a107cbf6e5"
  },
  "kernelspec": {
   "display_name": "Python 3.8.1 64-bit",
   "name": "python3"
  },
  "language_info": {
   "codemirror_mode": {
    "name": "ipython",
    "version": 3
   },
   "file_extension": ".py",
   "mimetype": "text/x-python",
   "name": "python",
   "nbconvert_exporter": "python",
   "pygments_lexer": "ipython3",
   "version": "3.8.1"
  },
  "orig_nbformat": 2
 },
 "nbformat": 4,
 "nbformat_minor": 2
}